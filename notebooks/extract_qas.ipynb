{
 "cells": [
  {
   "cell_type": "code",
   "execution_count": 1,
   "metadata": {},
   "outputs": [],
   "source": [
    "import docx\n",
    "import re\n",
    "import pandas as pd\n",
    "\n",
    "import os\n",
    "os.chdir(\"../\")\n"
   ]
  },
  {
   "cell_type": "code",
   "execution_count": 11,
   "metadata": {},
   "outputs": [],
   "source": [
    "file_path = \"data/evaluation_sets/Robinson Q&A.docx\"  # Replace with your actual file path\n"
   ]
  },
  {
   "cell_type": "code",
   "execution_count": 20,
   "metadata": {},
   "outputs": [
    {
     "data": {
      "text/html": [
       "<div>\n",
       "<style scoped>\n",
       "    .dataframe tbody tr th:only-of-type {\n",
       "        vertical-align: middle;\n",
       "    }\n",
       "\n",
       "    .dataframe tbody tr th {\n",
       "        vertical-align: top;\n",
       "    }\n",
       "\n",
       "    .dataframe thead th {\n",
       "        text-align: right;\n",
       "    }\n",
       "</style>\n",
       "<table border=\"1\" class=\"dataframe\">\n",
       "  <thead>\n",
       "    <tr style=\"text-align: right;\">\n",
       "      <th></th>\n",
       "      <th>Question</th>\n",
       "      <th>Answer</th>\n",
       "    </tr>\n",
       "  </thead>\n",
       "  <tbody>\n",
       "    <tr>\n",
       "      <th>0</th>\n",
       "      <td>Who are the parties to the Agreement and what ...</td>\n",
       "      <td>Cloud Investments Ltd. (“Company”) and Jack Ro...</td>\n",
       "    </tr>\n",
       "    <tr>\n",
       "      <th>1</th>\n",
       "      <td>What is the termination notice?</td>\n",
       "      <td>According to section 4:14 days for convenience...</td>\n",
       "    </tr>\n",
       "    <tr>\n",
       "      <th>2</th>\n",
       "      <td>What are the payments to the Advisor under the...</td>\n",
       "      <td>According to section 6: 1. Fees of $9 per hour...</td>\n",
       "    </tr>\n",
       "    <tr>\n",
       "      <th>3</th>\n",
       "      <td>Can the Agreement or any of its obligations be...</td>\n",
       "      <td>1. Under section 1.1 the Advisor can’t assign ...</td>\n",
       "    </tr>\n",
       "    <tr>\n",
       "      <th>4</th>\n",
       "      <td>Who owns the IP?</td>\n",
       "      <td>According to section 4 of the Undertaking (App...</td>\n",
       "    </tr>\n",
       "  </tbody>\n",
       "</table>\n",
       "</div>"
      ],
      "text/plain": [
       "                                            Question  \\\n",
       "0  Who are the parties to the Agreement and what ...   \n",
       "1                    What is the termination notice?   \n",
       "2  What are the payments to the Advisor under the...   \n",
       "3  Can the Agreement or any of its obligations be...   \n",
       "4                                  Who owns the IP?    \n",
       "\n",
       "                                              Answer  \n",
       "0  Cloud Investments Ltd. (“Company”) and Jack Ro...  \n",
       "1  According to section 4:14 days for convenience...  \n",
       "2  According to section 6: 1. Fees of $9 per hour...  \n",
       "3  1. Under section 1.1 the Advisor can’t assign ...  \n",
       "4  According to section 4 of the Undertaking (App...  "
      ]
     },
     "execution_count": 20,
     "metadata": {},
     "output_type": "execute_result"
    }
   ],
   "source": [
    "import docx\n",
    "import re\n",
    "import pandas as pd\n",
    "\n",
    "def extract_qa_pairs_to_df(file_path):\n",
    "    \"\"\"Extracts question-answer pairs from a docx file and saves them to a DataFrame.\n",
    "\n",
    "    Args:\n",
    "        file_path (str): The path to the docx file.\n",
    "\n",
    "    Returns:\n",
    "        pd.DataFrame: A DataFrame with columns \"Question_Number\", \"Question\", and \"Answer\".\n",
    "    \"\"\"\n",
    "\n",
    "    try:\n",
    "        doc = docx.Document(file_path)\n",
    "        questions = []\n",
    "        answers = []\n",
    "        question_numbers = []\n",
    "        current_question = None\n",
    "\n",
    "        for para in doc.paragraphs:\n",
    "            # Match questions (e.g., Q1:)\n",
    "            question_match = re.match(r\"(Q\\d+[a-z]?):\\s*(.*)\", para.text)  # Capture question text\n",
    "            if question_match:\n",
    "              \n",
    "                current_question = question_match.group(1)\n",
    "                \n",
    "                # Add the question number and text together in one text\n",
    "                # current_question = question_match.group(1) + \": \" + question_match.group(2)  # Combine question number and text\n",
    "\n",
    "                question_numbers.append(current_question)  # Store question number\n",
    "                questions.append(question_match.group(2))  # Store question text\n",
    "                answers.append(\"\")  # Initialize answer\n",
    "            elif current_question:  # If we're within a question-answer block\n",
    "                # Remove \"A1:\" prefix if present\n",
    "                answer_text = re.sub(r\"^A\\d+[a-z]?:\\s*\", \"\", para.text)  \n",
    "                answers[-1] += answer_text + \"\\n\"  # Append to the last answer\n",
    "\n",
    "        # Create DataFrame\n",
    "        df = pd.DataFrame({\"Question\": questions, \"Answer\": answers})\n",
    "        \n",
    "        ### Inlude the question numbers to the dataframe\n",
    "        # df = pd.DataFrame({\"Question_Number\": question_numbers, \"Question\": questions, \"Answer\": answers})\n",
    "        return df\n",
    "\n",
    "    except FileNotFoundError:\n",
    "        print(f\"Error: File not found at '{file_path}'\")\n",
    "        return None\n",
    "    except docx.opc.exceptions.PackageNotFoundError:\n",
    "        print(f\"Error: Invalid docx file at '{file_path}'\")\n",
    "        return None\n",
    "\n",
    "# Example usage\n",
    "# file_path = \"Raptor Q&A2.docx\"  # Replace with your actual file path\n",
    "df = extract_qa_pairs_to_df(file_path)\n",
    "\n",
    "df.head()"
   ]
  },
  {
   "cell_type": "code",
   "execution_count": 23,
   "metadata": {},
   "outputs": [],
   "source": [
    "# rename the columns for consistency, change answer to ground_truth\n",
    "df.columns = ['question', 'ground_truths']\n"
   ]
  },
  {
   "cell_type": "code",
   "execution_count": 24,
   "metadata": {},
   "outputs": [
    {
     "data": {
      "text/html": [
       "<div>\n",
       "<style scoped>\n",
       "    .dataframe tbody tr th:only-of-type {\n",
       "        vertical-align: middle;\n",
       "    }\n",
       "\n",
       "    .dataframe tbody tr th {\n",
       "        vertical-align: top;\n",
       "    }\n",
       "\n",
       "    .dataframe thead th {\n",
       "        text-align: right;\n",
       "    }\n",
       "</style>\n",
       "<table border=\"1\" class=\"dataframe\">\n",
       "  <thead>\n",
       "    <tr style=\"text-align: right;\">\n",
       "      <th></th>\n",
       "      <th>question</th>\n",
       "      <th>ground_truths</th>\n",
       "    </tr>\n",
       "  </thead>\n",
       "  <tbody>\n",
       "    <tr>\n",
       "      <th>0</th>\n",
       "      <td>Who are the parties to the Agreement and what ...</td>\n",
       "      <td>Cloud Investments Ltd. (“Company”) and Jack Ro...</td>\n",
       "    </tr>\n",
       "    <tr>\n",
       "      <th>1</th>\n",
       "      <td>What is the termination notice?</td>\n",
       "      <td>According to section 4:14 days for convenience...</td>\n",
       "    </tr>\n",
       "    <tr>\n",
       "      <th>2</th>\n",
       "      <td>What are the payments to the Advisor under the...</td>\n",
       "      <td>According to section 6: 1. Fees of $9 per hour...</td>\n",
       "    </tr>\n",
       "    <tr>\n",
       "      <th>3</th>\n",
       "      <td>Can the Agreement or any of its obligations be...</td>\n",
       "      <td>1. Under section 1.1 the Advisor can’t assign ...</td>\n",
       "    </tr>\n",
       "    <tr>\n",
       "      <th>4</th>\n",
       "      <td>Who owns the IP?</td>\n",
       "      <td>According to section 4 of the Undertaking (App...</td>\n",
       "    </tr>\n",
       "  </tbody>\n",
       "</table>\n",
       "</div>"
      ],
      "text/plain": [
       "                                            question  \\\n",
       "0  Who are the parties to the Agreement and what ...   \n",
       "1                    What is the termination notice?   \n",
       "2  What are the payments to the Advisor under the...   \n",
       "3  Can the Agreement or any of its obligations be...   \n",
       "4                                  Who owns the IP?    \n",
       "\n",
       "                                       ground_truths  \n",
       "0  Cloud Investments Ltd. (“Company”) and Jack Ro...  \n",
       "1  According to section 4:14 days for convenience...  \n",
       "2  According to section 6: 1. Fees of $9 per hour...  \n",
       "3  1. Under section 1.1 the Advisor can’t assign ...  \n",
       "4  According to section 4 of the Undertaking (App...  "
      ]
     },
     "execution_count": 24,
     "metadata": {},
     "output_type": "execute_result"
    }
   ],
   "source": [
    "df.head()"
   ]
  },
  {
   "cell_type": "code",
   "execution_count": 25,
   "metadata": {},
   "outputs": [
    {
     "name": "stderr",
     "output_type": "stream",
     "text": [
      "/home/hilla/code/10Academy-training/week11/contract-qa-high-precision-rag/.venv/lib/python3.10/site-packages/langchain_core/_api/deprecation.py:139: LangChainDeprecationWarning: The class `OpenAI` was deprecated in LangChain 0.0.10 and will be removed in 0.3.0. An updated version of the class exists in the langchain-openai package and should be used instead. To use it run `pip install -U langchain-openai` and import as `from langchain_openai import OpenAI`.\n",
      "  warn_deprecated(\n"
     ]
    },
    {
     "ename": "NameError",
     "evalue": "name 'qa' is not defined",
     "output_type": "error",
     "traceback": [
      "\u001b[0;31m---------------------------------------------------------------------------\u001b[0m",
      "\u001b[0;31mNameError\u001b[0m                                 Traceback (most recent call last)",
      "Cell \u001b[0;32mIn[25], line 11\u001b[0m\n\u001b[1;32m      8\u001b[0m eval_chain \u001b[38;5;241m=\u001b[39m QAEvalChain\u001b[38;5;241m.\u001b[39mfrom_llm(OpenAI(temperature\u001b[38;5;241m=\u001b[39m\u001b[38;5;241m0\u001b[39m))\n\u001b[1;32m     10\u001b[0m \u001b[38;5;66;03m# Evaluate a single question-answer pair\u001b[39;00m\n\u001b[0;32m---> 11\u001b[0m prediction \u001b[38;5;241m=\u001b[39m \u001b[43mqa\u001b[49m({\u001b[38;5;124m\"\u001b[39m\u001b[38;5;124mquestion\u001b[39m\u001b[38;5;124m\"\u001b[39m: \u001b[38;5;124m\"\u001b[39m\u001b[38;5;124mWhat is the purpose of the escrow?\u001b[39m\u001b[38;5;124m\"\u001b[39m})\n\u001b[1;32m     12\u001b[0m eval_result \u001b[38;5;241m=\u001b[39m eval_chain\u001b[38;5;241m.\u001b[39mevaluate_chain(prediction, question_data\u001b[38;5;241m=\u001b[39m{\u001b[38;5;124m\"\u001b[39m\u001b[38;5;124manswer\u001b[39m\u001b[38;5;124m\"\u001b[39m: \u001b[38;5;124m\"\u001b[39m\u001b[38;5;124mTo serve as a recourse of the Buyer in case of post-closing adjustments of the purchase price. (See section 2.07(e)).\u001b[39m\u001b[38;5;124m\"\u001b[39m})\n\u001b[1;32m     13\u001b[0m \u001b[38;5;28mprint\u001b[39m(eval_result)\n",
      "\u001b[0;31mNameError\u001b[0m: name 'qa' is not defined"
     ]
    }
   ],
   "source": [
    "from ragas.integrations.langsmith import upload_dataset\n",
    "\n",
    "dataset_name = \"Mere Christianity\"\n",
    "dataset_desc = \"Synthetic testset data for Mere Christianity.\"\n",
    "\n",
    "dataset = upload_dataset(testset, dataset_name, dataset_desc)"
   ]
  },
  {
   "cell_type": "code",
   "execution_count": null,
   "metadata": {},
   "outputs": [],
   "source": []
  }
 ],
 "metadata": {
  "kernelspec": {
   "display_name": ".venv",
   "language": "python",
   "name": "python3"
  },
  "language_info": {
   "codemirror_mode": {
    "name": "ipython",
    "version": 3
   },
   "file_extension": ".py",
   "mimetype": "text/x-python",
   "name": "python",
   "nbconvert_exporter": "python",
   "pygments_lexer": "ipython3",
   "version": "3.10.12"
  }
 },
 "nbformat": 4,
 "nbformat_minor": 2
}
