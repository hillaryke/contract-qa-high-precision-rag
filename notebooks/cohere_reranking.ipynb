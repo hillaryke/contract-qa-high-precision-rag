{
 "cells": [
  {
   "cell_type": "code",
   "execution_count": 2,
   "metadata": {},
   "outputs": [],
   "source": [
    "import os\n",
    "os.chdir(\"../\")\n",
    "\n",
    "from src.chroma_store import initialize_vectorstore, load_documents_from_dir\n",
    "from src.chunking_strategies import chunk_by_semantic, chunk_by_recursive_split"
   ]
  },
  {
   "cell_type": "code",
   "execution_count": 3,
   "metadata": {},
   "outputs": [
    {
     "name": "stdout",
     "output_type": "stream",
     "text": [
      "--INFO-- Loading documents from data/content\n"
     ]
    },
    {
     "name": "stderr",
     "output_type": "stream",
     "text": [
      "2024-07-04 09:17:33 - src.chroma_store - INFO - Clearing out the chroma database.\n",
      "2024-07-04 09:17:33 - src.chroma_store - INFO - Creating a new chroma database.\n"
     ]
    },
    {
     "name": "stdout",
     "output_type": "stream",
     "text": [
      "--INFO-- Loaded 1 documents\n",
      "Split 1 documents into 51 chunks.\n",
      "Time Tracking: Advisor shall provide the Company with a written report, in a format acceptable by the Company, setting forth the number of hours in which he provided the Services, on a daily basis, as well as an aggregated monthly report at the last day of each calendar month.\n",
      "{'source': 'data/content/Robinson Advisory.docx', 'start_index': 2311}\n"
     ]
    },
    {
     "name": "stderr",
     "output_type": "stream",
     "text": [
      "2024-07-04 09:17:35 - chromadb.telemetry.product.posthog - INFO - Anonymized telemetry enabled. See                     https://docs.trychroma.com/telemetry for more information.\n",
      "2024-07-04 09:17:37 - httpx - INFO - HTTP Request: POST https://api.openai.com/v1/embeddings \"HTTP/1.1 200 OK\"\n"
     ]
    }
   ],
   "source": [
    "# Load the documents from the data directory.\n",
    "documents = load_documents_from_dir(\"data/content\")\n",
    "\n",
    "chunks = chunk_by_recursive_split(documents, chunk_size=400)\n",
    "# chunks = chunk_by_semantic(documents)\n",
    "\n",
    "vectorstore = initialize_vectorstore(chunks)"
   ]
  },
  {
   "cell_type": "markdown",
   "metadata": {},
   "source": [
    "### Initialize retriever"
   ]
  },
  {
   "cell_type": "code",
   "execution_count": 4,
   "metadata": {},
   "outputs": [],
   "source": [
    "similarity_threshold = 0.65\n",
    "similarity_count = 20\n",
    "retriever = vectorstore.as_retriever(search_type=\"similarity_score_threshold\",\n",
    "                                      search_kwargs={'score_threshold': similarity_threshold,\n",
    "                                                      \"k\": similarity_count})"
   ]
  },
  {
   "cell_type": "markdown",
   "metadata": {},
   "source": [
    "### Retreival of documents"
   ]
  },
  {
   "cell_type": "code",
   "execution_count": 5,
   "metadata": {},
   "outputs": [],
   "source": [
    "from src.rag_pipeline import create_rank_fusion_chain, generate_answer\n",
    "from src.utils import format_tuple_docs_to_text, format_docs_to_text"
   ]
  },
  {
   "cell_type": "code",
   "execution_count": 6,
   "metadata": {},
   "outputs": [],
   "source": [
    "question = \"Who are the parties to the Agreement and what are their defined names?\""
   ]
  },
  {
   "cell_type": "code",
   "execution_count": 7,
   "metadata": {},
   "outputs": [
    {
     "name": "stderr",
     "output_type": "stream",
     "text": [
      "/home/hilla/code/10Academy-training/week11/contract-qa-high-precision-rag/.venv/lib/python3.10/site-packages/langchain_core/_api/deprecation.py:139: LangChainDeprecationWarning: The method `BaseRetriever.get_relevant_documents` was deprecated in langchain-core 0.1.46 and will be removed in 0.3.0. Use invoke instead.\n",
      "  warn_deprecated(\n",
      "2024-07-04 09:17:57 - httpx - INFO - HTTP Request: POST https://api.openai.com/v1/embeddings \"HTTP/1.1 200 OK\"\n"
     ]
    },
    {
     "name": "stdout",
     "output_type": "stream",
     "text": [
      "Entire Agreement; No Waiver or Assignment: This Agreement together with the Exhibits, which are attached hereto and incorporated herein, set forth the entire Agreement between the parties and shall supersede all previous communications and agreements between the parties, either oral or written. This Agreement may be modified only by a written amendment executed by both parties. This Agreement may\n",
      "\n",
      "------------\n",
      "\n",
      "Term: The term of this Agreement shall commence on the Effective Date and shall continue until terminated in accordance with the provisions herein (the \"Term\").\n",
      "\n",
      "------------\n",
      "\n",
      "Governing Law and Jurisdiction:  This Agreement shall be governed by the laws of the State of Israel, without giving effect to the rules respecting conflicts of laws. The parties consent to the exclusive jurisdiction and venue of Tel Aviv courts for any lawsuit filed arising from or relating to this Agreement.\n",
      "\n",
      "------------\n",
      "\n",
      "Whereas,\tAdvisor has expertise and/or knowledge and/or relationships, which are relevant to the Company’s business and the Company has asked Advisor to provide it with certain Advisory services, as described in this Agreement; and\n",
      "\n",
      "Whereas, \tAdvisor has agreed to provide the Company with such services, subject to the terms set forth in this Agreement.\n",
      "\n",
      "NOW THEREFORE THE PARTIES AGREE AS FOLLOWS:\n",
      "\n",
      "------------\n",
      "\n",
      "Notices: Notices under this Agreement shall be delivered to the party’s email address as follows: Company: info@cloudcorp.com, Advisor: jackrobinson@gmail.com, or in any the other means with a proof of acceptance by the other party.\n",
      "\n",
      "IN WITNESS WHEREOF the parties have executed this Agreement as of the date first above written.\n",
      "\n",
      "Cloud Investments Ltd.\t\t\t\tAdvisor\n",
      "\n",
      "------------\n",
      "\n",
      "Company.\n",
      "\n",
      "------------\n",
      "\n",
      "not to disclose the existence or contents of this Agreement to any third party without the prior written consent of the Company.\n",
      "\n",
      "------------\n",
      "\n",
      "By: ________________________\t\tBy:________________________\n",
      "\n",
      "Name:\tSilvan Joseph\t\t\t\tName:\tJack Robinson\t\t\n",
      "\n",
      "Title: CEO\t\t\t\t\t\n",
      "\n",
      "\n",
      "\n",
      "Confidentiality, None Compete and IP Ownership Undertaking\n",
      "\n",
      "Appendix A to Advisory Service Agreement as of June 15th, 2023\n",
      "\n",
      "------------\n",
      "\n",
      "Confidentiality, Non-Competition and IP Ownership Undertaking: In connection with the performance of Advisor’s obligations under this Agreement, the Advisor shall execute a Confidentiality, Non-Competition and IP Ownership Undertaking in the form attached hereto as Exhibit A.\n",
      "\n",
      "------------\n",
      "\n",
      "Services:\n",
      "\n",
      "------------\n",
      "\n",
      "Third Parties: The Advisor represents that the performance of the Services and the terms of this Undertaking, do not and will not breach any right, contractual or other, of any employer, customer or other third party. Advisor acknowledges that the Company is relying upon the truthfulness and accuracy of such representations in engaging with the Advisor. Advisor specifically undertakes not to use\n",
      "\n",
      "------------\n",
      "\n",
      "Advisor further agrees and undertakes to (i) comply with all the Company's policies, procedures and objectives, as in effect from time to time; (ii) adhere to any applicable law or provision, pertaining to his services; (iii) not take any action with the intention that the same will cause material damage to the good name of the Company; (iv) keep the contents of this Agreement confidential and\n",
      "\n",
      "------------\n",
      "\n",
      "existed between the Advisor and the Company.\n",
      "\n",
      "------------\n",
      "\n",
      "Termination: Either party, at any given time, may terminate this Agreement, for any reason whatsoever, with or without cause, upon fourteen (14) days’ prior written notice. Notwithstanding the above, the Company may terminate this Agreement immediately and without prior notice if Advisor refuses or is unable to perform the Services, or is in breach of any provision of this Agreement.\n",
      "\n",
      "------------\n",
      "\n",
      "IN WITNESS WHEREOF, the undersigned has executed this Undertaking as of the Effective Date.\n",
      "\n",
      "Advisor By: _____________________________________ Name: Jack Robinson\n",
      "\n",
      "------------\n",
      "\n",
      "No Conflicts: Advisor represents that there is no contractual or other legal restriction preventing or limiting him/her from entering into this Agreement or performing any of his/her obligations hereunder. Advisor shall immediately and without delay inform the Company of any affairs and/or matters that might constitute a conflict of interest with his/her services to Company and/or the interests\n",
      "\n",
      "------------\n",
      "\n",
      "Relationship of the Parties; Indemnification: The sole relationship between the Company and the Advisor shall be that of independent contractors. Advisor shall not be deemed to be, nor treated by the Company as, an employee of the Company. Advisor shall not receive nor be entitled to overtime pay, insurance, paid vacation, severance payments or similar fringe or employment benefits from the\n",
      "\n",
      "------------\n",
      "\n",
      "Definitions: (a) Company’s Business: development of an AI-based contract assistant. (b) Services: Software development services and/or any other services provided by the Advisor to the Company. (c) Work Product: Any product of the Services, tangible and/or intangible, including any inventions, discoveries and/or other intellectual property. (d) Confidential Information: any information disclosed\n"
     ]
    }
   ],
   "source": [
    "from langchain_openai import ChatOpenAI\n",
    "\n",
    "llm = ChatOpenAI(temperature=0)\n",
    "retrieval_chain = create_rank_fusion_chain(question, llm, retriever)\n",
    "\n",
    "# docs = retrieval_chain.invoke({\"question\": question})\n",
    "# context_text = format_tuple_docs_to_text(docs)\n",
    "\n",
    "docs = retriever.get_relevant_documents(question)\n",
    "context_text = format_docs_to_text(docs)\n",
    "\n",
    "\n",
    "print(context_text)"
   ]
  },
  {
   "cell_type": "code",
   "execution_count": 8,
   "metadata": {},
   "outputs": [
    {
     "name": "stdout",
     "output_type": "stream",
     "text": [
      "- 2-\n",
      "\n",
      "ADVISORY SERVICES AGREEMENT\n",
      "\n",
      "This Advisory Services Agreement is entered into as of June 15th, 2023 (the “Effective Date”), by and between Cloud Investments Ltd., ID 51-426526-3, an Israeli company (the \"Company\"), and Mr. Jack Robinson, Passport Number 780055578, residing at 1 Rabin st, Tel Aviv, Israel, Email: jackrobinson@gmail.com (\"Advisor\").\n"
     ]
    }
   ],
   "source": [
    "print(chunks[0].page_content)"
   ]
  },
  {
   "cell_type": "markdown",
   "metadata": {},
   "source": [
    "#### Reranking with cohere"
   ]
  },
  {
   "cell_type": "code",
   "execution_count": 9,
   "metadata": {},
   "outputs": [],
   "source": [
    "# Helper function for printing docs\n",
    "\n",
    "\n",
    "def pretty_print_docs(docs):\n",
    "    print(\n",
    "        f\"\\n{'-' * 100}\\n\".join(\n",
    "            [f\"Document {i+1}:\\n\\n\" + d.page_content for i, d in enumerate(docs)]\n",
    "        )\n",
    "    )"
   ]
  },
  {
   "cell_type": "code",
   "execution_count": 10,
   "metadata": {},
   "outputs": [
    {
     "name": "stderr",
     "output_type": "stream",
     "text": [
      "2024-07-04 09:18:06 - httpx - INFO - HTTP Request: POST https://api.openai.com/v1/embeddings \"HTTP/1.1 200 OK\"\n",
      "2024-07-04 09:18:07 - httpx - INFO - HTTP Request: POST https://api.cohere.com/v1/rerank \"HTTP/1.1 200 OK\"\n"
     ]
    },
    {
     "name": "stdout",
     "output_type": "stream",
     "text": [
      "Document 1:\n",
      "\n",
      "By: ________________________\t\tBy:________________________\n",
      "\n",
      "Name:\tSilvan Joseph\t\t\t\tName:\tJack Robinson\t\t\n",
      "\n",
      "Title: CEO\t\t\t\t\t\n",
      "\n",
      "\n",
      "\n",
      "Confidentiality, None Compete and IP Ownership Undertaking\n",
      "\n",
      "Appendix A to Advisory Service Agreement as of June 15th, 2023\n",
      "----------------------------------------------------------------------------------------------------\n",
      "Document 2:\n",
      "\n",
      "Whereas,\tAdvisor has expertise and/or knowledge and/or relationships, which are relevant to the Company’s business and the Company has asked Advisor to provide it with certain Advisory services, as described in this Agreement; and\n",
      "\n",
      "Whereas, \tAdvisor has agreed to provide the Company with such services, subject to the terms set forth in this Agreement.\n",
      "\n",
      "NOW THEREFORE THE PARTIES AGREE AS FOLLOWS:\n",
      "----------------------------------------------------------------------------------------------------\n",
      "Document 3:\n",
      "\n",
      "Notices: Notices under this Agreement shall be delivered to the party’s email address as follows: Company: info@cloudcorp.com, Advisor: jackrobinson@gmail.com, or in any the other means with a proof of acceptance by the other party.\n",
      "\n",
      "IN WITNESS WHEREOF the parties have executed this Agreement as of the date first above written.\n",
      "\n",
      "Cloud Investments Ltd.\t\t\t\tAdvisor\n"
     ]
    }
   ],
   "source": [
    "from langchain.retrievers.contextual_compression import ContextualCompressionRetriever\n",
    "from langchain_cohere import CohereRerank\n",
    "from langchain_community.llms import Cohere\n",
    "\n",
    "llm = Cohere(temperature=0)\n",
    "compressor = CohereRerank()\n",
    "compression_retriever = ContextualCompressionRetriever(\n",
    "    base_compressor=compressor, base_retriever=retriever\n",
    ")\n",
    "\n",
    "compressed_docs = compression_retriever.invoke(\n",
    "    question\n",
    ")\n",
    "pretty_print_docs(compressed_docs)"
   ]
  },
  {
   "cell_type": "markdown",
   "metadata": {},
   "source": [
    "#### Answer generation"
   ]
  },
  {
   "cell_type": "code",
   "execution_count": null,
   "metadata": {},
   "outputs": [],
   "source": [
    "from langchain_openai import ChatOpenAI\n",
    "llm = ChatOpenAI(model_name=\"gpt-4o\", temperature=0)\n",
    "\n",
    "answer = generate_answer(question, context_text, llm=llm)\n",
    "answer\n"
   ]
  },
  {
   "cell_type": "markdown",
   "metadata": {},
   "source": [
    "You are an experienced Legal Assistant who analyzes legal documents. Your expertise includes extracting facts and integrating information from multiple sources to provide well-supported answers. \n",
    "\n",
    "Guidelines:\n",
    "\n",
    "1. Derive your answer strictly from the provided context. Do not introduce any new information.\n",
    "\n",
    "2. Ensure complete contextuality: Address all aspects of the query, linking back to specific details in the context.\n",
    "\n",
    "3. Avoid phrases like \"In the context provided\" or \"According to my knowledge.\"\n",
    "\n",
    "4. Be concise and to the point.\n",
    "\n",
    "5. Write in a professional and legally appropriate manner.\n",
    "\n",
    "Previous Q & A examples include:\n",
    "\n",
    "\n",
    "Given the guidelines and examples, please answer the question based on the following context."
   ]
  }
 ],
 "metadata": {
  "language_info": {
   "name": "python"
  }
 },
 "nbformat": 4,
 "nbformat_minor": 2
}
